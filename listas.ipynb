{
 "cells": [
  {
   "attachments": {},
   "cell_type": "markdown",
   "metadata": {},
   "source": [
    "LISTAS "
   ]
  },
  {
   "cell_type": "code",
   "execution_count": 20,
   "metadata": {},
   "outputs": [
    {
     "name": "stdout",
     "output_type": "stream",
     "text": [
      "[1, 2, 3, 4, 5, 6]\n"
     ]
    }
   ],
   "source": [
    "lista = [1,2,3,4,5,6]\n",
    "print(lista)"
   ]
  },
  {
   "cell_type": "code",
   "execution_count": 21,
   "metadata": {},
   "outputs": [
    {
     "name": "stdout",
     "output_type": "stream",
     "text": [
      "['a', 'curao', 'python', 'Alberto']\n"
     ]
    }
   ],
   "source": [
    "lista = [\"a\",\"curao\",\"python\",\"Alberto\"]\n",
    "print(lista)"
   ]
  },
  {
   "cell_type": "code",
   "execution_count": 22,
   "metadata": {},
   "outputs": [
    {
     "name": "stdout",
     "output_type": "stream",
     "text": [
      "['a', 2, 'b', 4, 'c', 6, 7, 8, 9, 10]\n"
     ]
    }
   ],
   "source": [
    "lista_a = [\"a\",2,\"b\",4,\"c\"]\n",
    "lista_b = [6,7,8,9,10]\n",
    "\n",
    "suma = lista_a + lista_b\n",
    "\n",
    "print(suma)"
   ]
  },
  {
   "cell_type": "code",
   "execution_count": 23,
   "metadata": {},
   "outputs": [
    {
     "name": "stdout",
     "output_type": "stream",
     "text": [
      "[1, 2, 'nuevo', 4, 5]\n"
     ]
    }
   ],
   "source": [
    "#Remplazar numero\n",
    "numeros = [1,2,3,4,5]\n",
    "numeros[2]=\"nuevo\"\n",
    "print(numeros)"
   ]
  },
  {
   "cell_type": "code",
   "execution_count": 24,
   "metadata": {},
   "outputs": [
    {
     "name": "stdout",
     "output_type": "stream",
     "text": [
      "['a', 'b', 'c']\n"
     ]
    }
   ],
   "source": [
    "letras = [\"a\",\"b\",\"c\"]\n",
    "print(letras)\n",
    "\n"
   ]
  },
  {
   "cell_type": "code",
   "execution_count": 25,
   "metadata": {},
   "outputs": [
    {
     "name": "stdout",
     "output_type": "stream",
     "text": [
      "['a', 'z', 'c']\n"
     ]
    }
   ],
   "source": [
    "#Remplazar letars \n",
    "letras[1]=\"z\"\n",
    "print(letras)"
   ]
  },
  {
   "cell_type": "code",
   "execution_count": 31,
   "metadata": {},
   "outputs": [
    {
     "name": "stdout",
     "output_type": "stream",
     "text": [
      "['x', 'x', 'a']\n"
     ]
    }
   ],
   "source": [
    "#Remplzar cumeros negativos\n",
    "letras[-1] = \"a\"\n",
    "\n",
    "print(letras)\n"
   ]
  },
  {
   "cell_type": "code",
   "execution_count": 34,
   "metadata": {},
   "outputs": [
    {
     "name": "stdout",
     "output_type": "stream",
     "text": [
      "6\n"
     ]
    }
   ],
   "source": [
    "#Usar Funcion Len\n",
    "lista_a = [1,2,3,4,5,6]\n",
    "print(len(lista_a))"
   ]
  },
  {
   "cell_type": "code",
   "execution_count": 41,
   "metadata": {},
   "outputs": [
    {
     "name": "stdout",
     "output_type": "stream",
     "text": [
      "[3, 4, 5, 6]\n",
      "[8, 9, 10]\n",
      "[1, 2, 3, 4, 5]\n"
     ]
    }
   ],
   "source": [
    "#Cortar una lista\n",
    "lista_b = [1,2,3,4,5,6,7,8,9,10]\n",
    "print(lista_b[2:6])\n",
    "print(lista_b[7:])\n",
    "print(lista_b[:5])"
   ]
  },
  {
   "cell_type": "code",
   "execution_count": 42,
   "metadata": {},
   "outputs": [
    {
     "name": "stdout",
     "output_type": "stream",
     "text": [
      "[1, 2, 'nuevo', 3, 4, 5, 6, 7, 8, 9, 10]\n"
     ]
    }
   ],
   "source": [
    "#insertar Datos\n",
    "\n",
    "lista_b.insert(2,\"nuevo\")\n",
    "print(lista_b)"
   ]
  },
  {
   "cell_type": "code",
   "execution_count": 44,
   "metadata": {},
   "outputs": [
    {
     "name": "stdout",
     "output_type": "stream",
     "text": [
      "[1, 2, 'nuevo', 3, 4, 5, 6, 7, 8, 9, 10, 'nuevo_app', 'nuevo_append']\n"
     ]
    }
   ],
   "source": [
    "#Agergar valor en la ultima posicion\n",
    "lista_b.append(\"nuevo_append\")\n",
    "print(lista_b)"
   ]
  },
  {
   "cell_type": "code",
   "execution_count": 45,
   "metadata": {},
   "outputs": [
    {
     "name": "stdout",
     "output_type": "stream",
     "text": [
      "[1, 2, 3, 4, 5, 6, 7, 8, 9, 'a', 'b']\n"
     ]
    }
   ],
   "source": [
    "#añadimos varias lineas a la vez \n",
    "lista1 = [1,2,3,4,5,6,7,8,9]\n",
    "lista2 = [\"a\",\"b\"]\n",
    "\n",
    "lista1.extend(lista2)\n",
    "\n",
    "print(lista1)"
   ]
  },
  {
   "cell_type": "code",
   "execution_count": 46,
   "metadata": {},
   "outputs": [
    {
     "name": "stdout",
     "output_type": "stream",
     "text": [
      "['abc', 'def', 'xyz']\n"
     ]
    }
   ],
   "source": [
    "#Ordenar nuestra lista \n",
    "letras = [\"def\",\"abc\",\"xyz\"]\n",
    "\n",
    "letras.sort()\n",
    "\n",
    "print(letras)"
   ]
  },
  {
   "cell_type": "code",
   "execution_count": 47,
   "metadata": {},
   "outputs": [
    {
     "name": "stdout",
     "output_type": "stream",
     "text": [
      "[1, 2, 3, 5, 8, 23, 56, 78]\n"
     ]
    }
   ],
   "source": [
    "numeros = [2,5,8,1,23,56,3,78]\n",
    "numeros.sort()\n",
    "\n",
    "print(numeros)"
   ]
  },
  {
   "cell_type": "code",
   "execution_count": 82,
   "metadata": {},
   "outputs": [
    {
     "name": "stdout",
     "output_type": "stream",
     "text": [
      "['xyz', 'def', 'abc']\n",
      "[78, 3, 56, 23, 1, 8, 5, 2]\n"
     ]
    }
   ],
   "source": [
    "#invertir una lista\n",
    "\n",
    "letras.reverse()\n",
    "print(letras)\n",
    "\n",
    "numeros2 = [2,5,8,1,23,56,3,78]\n",
    "numeros2.reverse()\n",
    "print(numeros2)\n"
   ]
  },
  {
   "cell_type": "code",
   "execution_count": 83,
   "metadata": {},
   "outputs": [
    {
     "name": "stdout",
     "output_type": "stream",
     "text": [
      "2\n"
     ]
    }
   ],
   "source": [
    "#saber la psosicion de los elementos que tengo en una lista \n",
    "print(numeros2.index(56))\n"
   ]
  },
  {
   "cell_type": "code",
   "execution_count": 72,
   "metadata": {},
   "outputs": [
    {
     "name": "stdout",
     "output_type": "stream",
     "text": [
      "1\n"
     ]
    }
   ],
   "source": [
    "#eliminar datos\n",
    "nueva_lista = [1,5,2,8,9]\n",
    "print(nueva_lista)\n",
    "\n",
    "eliminar_list = nueva_lista.pop(2)\n",
    "\n",
    "print(eliminar_list)\n",
    "print(nueva_lista)\n"
   ]
  }
 ],
 "metadata": {
  "kernelspec": {
   "display_name": "Python 3",
   "language": "python",
   "name": "python3"
  },
  "language_info": {
   "codemirror_mode": {
    "name": "ipython",
    "version": 3
   },
   "file_extension": ".py",
   "mimetype": "text/x-python",
   "name": "python",
   "nbconvert_exporter": "python",
   "pygments_lexer": "ipython3",
   "version": "3.8.10"
  },
  "orig_nbformat": 4,
  "vscode": {
   "interpreter": {
    "hash": "916dbcbb3f70747c44a77c7bcd40155683ae19c65e1c03b4aa3499c5328201f1"
   }
  }
 },
 "nbformat": 4,
 "nbformat_minor": 2
}
