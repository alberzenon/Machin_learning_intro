{
 "cells": [
  {
   "attachments": {},
   "cell_type": "markdown",
   "metadata": {},
   "source": [
    "2. Diccionarios \n",
    "\n",
    "Un diccionario en Python es una estructura de datos que permite almacenar cualquier tipo de información, desde cadenas de texto o caracteres hasta números enteros, con decimales, listas e incluso otros diccionarios.\n",
    "\n",
    "diccionario = {\"clave\":\"valor\"}"
   ]
  },
  {
   "cell_type": "code",
   "execution_count": 9,
   "metadata": {},
   "outputs": [
    {
     "name": "stdout",
     "output_type": "stream",
     "text": [
      "{'nombre': 'Alberto', 'edad': 34}\n",
      "Alberto\n",
      "34\n"
     ]
    }
   ],
   "source": [
    "diccionario = {'nombre':'Alberto','edad':34}\n",
    "\n",
    "print(diccionario)\n",
    "\n",
    "#imprimiendo el valor del nombre \n",
    "print(diccionario['nombre'])\n",
    "print(diccionario['edad'])"
   ]
  },
  {
   "cell_type": "code",
   "execution_count": 6,
   "metadata": {},
   "outputs": [
    {
     "name": "stdout",
     "output_type": "stream",
     "text": [
      "{'pais': 'italia', 'ciudad': 'milan'}\n"
     ]
    }
   ],
   "source": [
    "datos_personales = {'pais':'italia','ciudad':'roma'}\n",
    "datos_personales['ciudad'] = 'milan'\n",
    "\n",
    "print(datos_personales)"
   ]
  },
  {
   "cell_type": "code",
   "execution_count": 7,
   "metadata": {},
   "outputs": [
    {
     "name": "stdout",
     "output_type": "stream",
     "text": [
      "{'Jose': 18, 'David': 23, 'Camila': 19, 'Maria': 22, 'Raul': 33}\n"
     ]
    }
   ],
   "source": [
    "#Agregando una nueva clave y valor \n",
    "dict = {'Jose':18,'David':23,'Camila':19,'Maria':22}\n",
    "dict.update({'Raul':33})\n",
    "\n",
    "print(dict)"
   ]
  },
  {
   "cell_type": "code",
   "execution_count": 8,
   "metadata": {},
   "outputs": [
    {
     "name": "stdout",
     "output_type": "stream",
     "text": [
      "{'Jose': 18, 'Camila': 19, 'Maria': 22, 'Raul': 33}\n"
     ]
    }
   ],
   "source": [
    "#Eliminar Elemento \n",
    "\n",
    "del dict['David']\n",
    "\n",
    "print(dict)"
   ]
  },
  {
   "cell_type": "code",
   "execution_count": 10,
   "metadata": {},
   "outputs": [
    {
     "name": "stdout",
     "output_type": "stream",
     "text": [
      "Camila : 19\n",
      "David : 23\n",
      "Jose : 18\n",
      "Maria : 22\n"
     ]
    }
   ],
   "source": [
    "#Recorrido de los elementos del diccionario\n",
    "dict = {'Jose':18,'David':23,'Camila':19,'Maria':22}\n",
    "varones = {'jose':18,'David': 23}\n",
    "mijeres = {'Camila': 19,'Maria': 22}\n",
    "\n",
    "estudiantes =list(dict.keys())\n",
    "estudiantes.sort()\n",
    "for e in estudiantes:\n",
    "    print(\" : \".join((e,str(dict[e]))))"
   ]
  }
 ],
 "metadata": {
  "kernelspec": {
   "display_name": "Python 3",
   "language": "python",
   "name": "python3"
  },
  "language_info": {
   "codemirror_mode": {
    "name": "ipython",
    "version": 3
   },
   "file_extension": ".py",
   "mimetype": "text/x-python",
   "name": "python",
   "nbconvert_exporter": "python",
   "pygments_lexer": "ipython3",
   "version": "3.8.10"
  },
  "orig_nbformat": 4,
  "vscode": {
   "interpreter": {
    "hash": "916dbcbb3f70747c44a77c7bcd40155683ae19c65e1c03b4aa3499c5328201f1"
   }
  }
 },
 "nbformat": 4,
 "nbformat_minor": 2
}
